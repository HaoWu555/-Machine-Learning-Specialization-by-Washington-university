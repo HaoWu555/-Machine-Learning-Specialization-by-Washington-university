{
 "cells": [
  {
   "cell_type": "markdown",
   "metadata": {},
   "source": [
    "# Regression Week 1: Simple Linear Regression"
   ]
  },
  {
   "cell_type": "markdown",
   "metadata": {},
   "source": [
    "In this notebook we will use data on house sales in King County to predict house prices using simple (one input) linear regression. You will:\n",
    "* Use graphlab SArray and SFrame functions to compute important summary statistics\n",
    "* Write a function to compute the Simple Linear Regression weights using the closed form solution\n",
    "* Write a function to make predictions of the output given the input feature\n",
    "* Turn the regression around to predict the input given the output\n",
    "* Compare two different models for predicting house prices\n",
    "\n",
    "In this notebook you will be provided with some already complete code as well as some code that you should complete yourself in order to answer quiz questions. The code we provide to complte is optional and is there to assist you with solving the problems but feel free to ignore the helper code and write your own."
   ]
  },
  {
   "cell_type": "markdown",
   "metadata": {},
   "source": [
    "# Fire up graphlab create"
   ]
  },
  {
   "cell_type": "code",
   "execution_count": 1,
   "metadata": {
    "collapsed": false
   },
   "outputs": [],
   "source": [
    "import graphlab"
   ]
  },
  {
   "cell_type": "markdown",
   "metadata": {},
   "source": [
    "# Load house sales data\n",
    "\n",
    "Dataset is from house sales in King County, the region where the city of Seattle, WA is located."
   ]
  },
  {
   "cell_type": "code",
   "execution_count": 2,
   "metadata": {
    "collapsed": false
   },
   "outputs": [
    {
     "name": "stdout",
     "output_type": "stream",
     "text": [
      "This non-commercial license of GraphLab Create for academic use is assigned to haowu0418@gmail.com and will expire on September 21, 2019.\n"
     ]
    },
    {
     "name": "stderr",
     "output_type": "stream",
     "text": [
      "[INFO] graphlab.cython.cy_server: GraphLab Create v2.1 started. Logging: /tmp/graphlab_server_1539003019.log\n"
     ]
    }
   ],
   "source": [
    "sales = graphlab.SFrame('kc_house_data.gl/')"
   ]
  },
  {
   "cell_type": "markdown",
   "metadata": {},
   "source": [
    "# Split data into training and testing"
   ]
  },
  {
   "cell_type": "markdown",
   "metadata": {},
   "source": [
    "We use seed=0 so that everyone running this notebook gets the same results.  In practice, you may set a random seed (or let GraphLab Create pick a random seed for you).  "
   ]
  },
  {
   "cell_type": "code",
   "execution_count": 3,
   "metadata": {
    "collapsed": false
   },
   "outputs": [],
   "source": [
    "train_data,test_data = sales.random_split(.8,seed=0)"
   ]
  },
  {
   "cell_type": "markdown",
   "metadata": {},
   "source": [
    "# Useful SFrame summary functions"
   ]
  },
  {
   "cell_type": "markdown",
   "metadata": {},
   "source": [
    "In order to make use of the closed form solution as well as take advantage of graphlab's built in functions we will review some important ones. In particular:\n",
    "* Computing the sum of an SArray\n",
    "* Computing the arithmetic average (mean) of an SArray\n",
    "* multiplying SArrays by constants\n",
    "* multiplying SArrays by other SArrays"
   ]
  },
  {
   "cell_type": "code",
   "execution_count": 4,
   "metadata": {
    "collapsed": false
   },
   "outputs": [
    {
     "name": "stdout",
     "output_type": "stream",
     "text": [
      "average price via method 1: 540088.141905\n",
      "average price via method 2: 540088.141905\n"
     ]
    }
   ],
   "source": [
    "# Let's compute the mean of the House Prices in King County in 2 different ways.\n",
    "prices = sales['price'] # extract the price column of the sales SFrame -- this is now an SArray\n",
    "\n",
    "# recall that the arithmetic average (the mean) is the sum of the prices divided by the total number of houses:\n",
    "sum_prices = prices.sum()\n",
    "num_houses = prices.size() # when prices is an SArray .size() returns its length\n",
    "avg_price_1 = sum_prices/num_houses\n",
    "avg_price_2 = prices.mean() # if you just want the average, the .mean() function\n",
    "print \"average price via method 1: \" + str(avg_price_1)\n",
    "print \"average price via method 2: \" + str(avg_price_2)"
   ]
  },
  {
   "cell_type": "markdown",
   "metadata": {},
   "source": [
    "As we see we get the same answer both ways"
   ]
  },
  {
   "cell_type": "code",
   "execution_count": 5,
   "metadata": {
    "collapsed": false
   },
   "outputs": [
    {
     "name": "stdout",
     "output_type": "stream",
     "text": [
      "the sum of price squared is: 9.21732513355e+15\n"
     ]
    }
   ],
   "source": [
    "# if we want to multiply every price by 0.5 it's a simple as:\n",
    "half_prices = 0.5*prices\n",
    "# Let's compute the sum of squares of price. We can multiply two SArrays of the same length elementwise also with *\n",
    "prices_squared = prices*prices\n",
    "sum_prices_squared = prices_squared.sum() # price_squared is an SArray of the squares and we want to add them up.\n",
    "print \"the sum of price squared is: \" + str(sum_prices_squared)"
   ]
  },
  {
   "cell_type": "markdown",
   "metadata": {},
   "source": [
    "Aside: The python notation x.xxe+yy means x.xx \\* 10^(yy). e.g 100 = 10^2 = 1*10^2 = 1e2 "
   ]
  },
  {
   "cell_type": "markdown",
   "metadata": {},
   "source": [
    "# Build a generic simple linear regression function "
   ]
  },
  {
   "cell_type": "markdown",
   "metadata": {},
   "source": [
    "Armed with these SArray functions we can use the closed form solution found from lecture to compute the slope and intercept for a simple linear regression on observations stored as SArrays: input_feature, output.\n",
    "\n",
    "Complete the following function (or write your own) to compute the simple linear regression slope and intercept:"
   ]
  },
  {
   "cell_type": "code",
   "execution_count": 136,
   "metadata": {
    "collapsed": false
   },
   "outputs": [],
   "source": [
    "def simple_linear_regression(input_feature, output):\n",
    "    # compute the sum of input_feature and output\n",
    "    sum_input,sum_output = input_feature.sum(),output.sum()\n",
    "    # compute the product of the output and the input_feature and its sum\n",
    "    sum_input_output = (input_feature*output).sum()\n",
    "    # compute the squared value of the input_feature and its sum\n",
    "    sum_input_square = (input_feature*input_feature).sum()\n",
    "    # use the formula for the slope\n",
    "    slope = (sum_input_output - float(sum_input*sum_output)/output.size())/(sum_input_square - float(sum_input*sum_input)/output.size())\n",
    "    # use the formula for the intercept\n",
    "    intercept = float(sum_output)/output.size()-slope*float(sum_input)/input_feature.size()\n",
    "    return (intercept, slope)"
   ]
  },
  {
   "cell_type": "markdown",
   "metadata": {},
   "source": [
    "We can test that our function works by passing it something where we know the answer. In particular we can generate a feature and then put the output exactly on a line: output = 1 + 1\\*input_feature then we know both our slope and intercept should be 1"
   ]
  },
  {
   "cell_type": "code",
   "execution_count": 137,
   "metadata": {
    "collapsed": false,
    "scrolled": true
   },
   "outputs": [
    {
     "name": "stdout",
     "output_type": "stream",
     "text": [
      "Intercept: 1.0\n",
      "Slope: 1.0\n"
     ]
    }
   ],
   "source": [
    "test_feature = graphlab.SArray(range(5))\n",
    "test_output = graphlab.SArray(1 + 1*test_feature)\n",
    "(test_intercept, test_slope) =  simple_linear_regression(test_feature, test_output)\n",
    "print \"Intercept: \" + str(test_intercept)\n",
    "print \"Slope: \" + str(test_slope)"
   ]
  },
  {
   "cell_type": "markdown",
   "metadata": {},
   "source": [
    "Now that we know it works let's build a regression model for predicting price based on sqft_living. Rembember that we train on train_data!"
   ]
  },
  {
   "cell_type": "code",
   "execution_count": 138,
   "metadata": {
    "collapsed": false
   },
   "outputs": [
    {
     "name": "stdout",
     "output_type": "stream",
     "text": [
      "Intercept: -47116.0765749\n",
      "Slope: 281.958838568\n"
     ]
    }
   ],
   "source": [
    "sqft_intercept, sqft_slope = simple_linear_regression(train_data['sqft_living'], train_data['price'])\n",
    "\n",
    "print \"Intercept: \" + str(sqft_intercept)\n",
    "print \"Slope: \" + str(sqft_slope)"
   ]
  },
  {
   "cell_type": "markdown",
   "metadata": {},
   "source": [
    "# Predicting Values"
   ]
  },
  {
   "cell_type": "markdown",
   "metadata": {},
   "source": [
    "Now that we have the model parameters: intercept & slope we can make predictions. Using SArrays it's easy to multiply an SArray by a constant and add a constant value. Complete the following function to return the predicted output given the input_feature, slope and intercept:"
   ]
  },
  {
   "cell_type": "code",
   "execution_count": 139,
   "metadata": {
    "collapsed": false
   },
   "outputs": [],
   "source": [
    "def get_regression_predictions(input_feature, intercept, slope):\n",
    "    # calculate the predicted values:\n",
    "    predicted_values = input_feature*slope+intercept\n",
    "    return predicted_values"
   ]
  },
  {
   "cell_type": "markdown",
   "metadata": {},
   "source": [
    "Now that we can calculate a prediction given the slope and intercept let's make a prediction. Use (or alter) the following to find out the estimated price for a house with 2650 squarefeet according to the squarefeet model we estiamted above.\n",
    "\n",
    "**Quiz Question: Using your Slope and Intercept from (4), What is the predicted price for a house with 2650 sqft?**"
   ]
  },
  {
   "cell_type": "code",
   "execution_count": 140,
   "metadata": {
    "collapsed": false
   },
   "outputs": [
    {
     "name": "stdout",
     "output_type": "stream",
     "text": [
      "700074.845629\n",
      "The estimated price for a house with 2650 squarefeet is $700074.85\n"
     ]
    }
   ],
   "source": [
    "my_house_sqft = 2650\n",
    "estimated_price = get_regression_predictions(my_house_sqft, sqft_intercept, sqft_slope)\n",
    "print estimated_price\n",
    "print \"The estimated price for a house with %d squarefeet is $%.2f\" % (my_house_sqft, estimated_price)"
   ]
  },
  {
   "cell_type": "markdown",
   "metadata": {},
   "source": [
    "# Residual Sum of Squares"
   ]
  },
  {
   "cell_type": "markdown",
   "metadata": {},
   "source": [
    "Now that we have a model and can make predictions let's evaluate our model using Residual Sum of Squares (RSS). Recall that RSS is the sum of the squares of the residuals and the residuals is just a fancy word for the difference between the predicted output and the true output. \n",
    "\n",
    "Complete the following (or write your own) function to compute the RSS of a simple linear regression model given the input_feature, output, intercept and slope:"
   ]
  },
  {
   "cell_type": "code",
   "execution_count": 141,
   "metadata": {
    "collapsed": true
   },
   "outputs": [],
   "source": [
    "def get_residual_sum_of_squares(input_feature, output, intercept, slope):\n",
    "    # First get the predictions\n",
    "    prediction = get_regression_predictions(input_feature, intercept, slope)\n",
    "    # then compute the residuals (since we are squaring it doesn't matter which order you subtract)\n",
    "    residual = prediction - output\n",
    "    # square the residuals and add them up\n",
    "    RSS = (residual*residual).sum()\n",
    "    return(RSS)"
   ]
  },
  {
   "cell_type": "markdown",
   "metadata": {},
   "source": [
    "Let's test our get_residual_sum_of_squares function by applying it to the test model where the data lie exactly on a line. Since they lie exactly on a line the residual sum of squares should be zero!"
   ]
  },
  {
   "cell_type": "code",
   "execution_count": 142,
   "metadata": {
    "collapsed": false
   },
   "outputs": [
    {
     "name": "stdout",
     "output_type": "stream",
     "text": [
      "0.0\n"
     ]
    }
   ],
   "source": [
    "print get_residual_sum_of_squares(test_feature, test_output, test_intercept, test_slope) # should be 0.0"
   ]
  },
  {
   "cell_type": "markdown",
   "metadata": {},
   "source": [
    "Now use your function to calculate the RSS on training data from the squarefeet model calculated above.\n",
    "\n",
    "**Quiz Question: According to this function and the slope and intercept from the squarefeet model What is the RSS for the simple linear regression using squarefeet to predict prices on TRAINING data?**"
   ]
  },
  {
   "cell_type": "code",
   "execution_count": 143,
   "metadata": {
    "collapsed": false
   },
   "outputs": [
    {
     "name": "stdout",
     "output_type": "stream",
     "text": [
      "The RSS of predicting Prices based on Square Feet is : 1.20191835632e+15\n"
     ]
    }
   ],
   "source": [
    "rss_prices_on_sqft = get_residual_sum_of_squares(train_data['sqft_living'], train_data['price'], sqft_intercept, sqft_slope)\n",
    "print 'The RSS of predicting Prices based on Square Feet is : ' + str(rss_prices_on_sqft)"
   ]
  },
  {
   "cell_type": "markdown",
   "metadata": {},
   "source": [
    "# Predict the squarefeet given price"
   ]
  },
  {
   "cell_type": "markdown",
   "metadata": {},
   "source": [
    "What if we want to predict the squarefoot given the price? Since we have an equation y = a + b\\*x we can solve the function for x. So that if we have the intercept (a) and the slope (b) and the price (y) we can solve for the estimated squarefeet (x).\n",
    "\n",
    "Complete the following function to compute the inverse regression estimate, i.e. predict the input_feature given the output."
   ]
  },
  {
   "cell_type": "code",
   "execution_count": 144,
   "metadata": {
    "collapsed": true
   },
   "outputs": [],
   "source": [
    "def inverse_regression_predictions(output, intercept, slope):\n",
    "    # solve output = intercept + slope*input_feature for input_feature. Use this equation to compute the inverse predictions:\n",
    "    estimated_feature = (output-intercept)/slope\n",
    "    return estimated_feature"
   ]
  },
  {
   "cell_type": "markdown",
   "metadata": {},
   "source": [
    "Now that we have a function to compute the squarefeet given the price from our simple regression model let's see how big we might expect a house that costs $800,000 to be.\n",
    "\n",
    "**Quiz Question: According to this function and the regression slope and intercept from (3) what is the estimated square-feet for a house costing $800,000?**"
   ]
  },
  {
   "cell_type": "code",
   "execution_count": 145,
   "metadata": {
    "collapsed": false
   },
   "outputs": [
    {
     "name": "stdout",
     "output_type": "stream",
     "text": [
      "The estimated squarefeet for a house worth $800000.00 is 3004\n"
     ]
    }
   ],
   "source": [
    "my_house_price = 800000\n",
    "estimated_squarefeet = inverse_regression_predictions(my_house_price, sqft_intercept, sqft_slope)\n",
    "print \"The estimated squarefeet for a house worth $%.2f is %d\" % (my_house_price, estimated_squarefeet)"
   ]
  },
  {
   "cell_type": "markdown",
   "metadata": {},
   "source": [
    "# New Model: estimate prices from bedrooms"
   ]
  },
  {
   "cell_type": "markdown",
   "metadata": {},
   "source": [
    "We have made one model for predicting house prices using squarefeet, but there are many other features in the sales SFrame. \n",
    "Use your simple linear regression function to estimate the regression parameters from predicting Prices based on number of bedrooms. Use the training data!"
   ]
  },
  {
   "cell_type": "code",
   "execution_count": 147,
   "metadata": {
    "collapsed": false
   },
   "outputs": [],
   "source": [
    "# Estimate the slope and intercept for predicting 'price' based on 'bedrooms'\n",
    "bedroom_intercept, bedroom_slope = simple_linear_regression(train_data['bedrooms'], train_data['price'])"
   ]
  },
  {
   "cell_type": "markdown",
   "metadata": {},
   "source": [
    "# Test your Linear Regression Algorithm"
   ]
  },
  {
   "cell_type": "markdown",
   "metadata": {},
   "source": [
    "Now we have two models for predicting the price of a house. How do we know which one is better? Calculate the RSS on the TEST data (remember this data wasn't involved in learning the model). Compute the RSS from predicting prices using bedrooms and from predicting prices using squarefeet.\n",
    "\n",
    "**Quiz Question: Which model (square feet or bedrooms) has lowest RSS on TEST data? Think about why this might be the case.**"
   ]
  },
  {
   "cell_type": "code",
   "execution_count": 151,
   "metadata": {
    "collapsed": false
   },
   "outputs": [
    {
     "name": "stdout",
     "output_type": "stream",
     "text": [
      "4.93364582868e+14\n"
     ]
    }
   ],
   "source": [
    "# Compute RSS when using bedrooms on TEST data:\n",
    "RSS_bedroom = get_residual_sum_of_squares(test_data['bedrooms'], test_data['price'], bedroom_intercept, bedroom_slope)\n",
    "print RSS_bedroom"
   ]
  },
  {
   "cell_type": "code",
   "execution_count": 153,
   "metadata": {
    "collapsed": false
   },
   "outputs": [
    {
     "name": "stdout",
     "output_type": "stream",
     "text": [
      "2.75402936247e+14\n"
     ]
    }
   ],
   "source": [
    "# Compute RSS when using squarefeet on TEST data:\n",
    "RSS_sqrf = get_residual_sum_of_squares(test_data['sqft_living'], test_data['price'], sqft_intercept, sqft_slope)\n",
    "print RSS_sqrf"
   ]
  },
  {
   "cell_type": "code",
   "execution_count": 154,
   "metadata": {
    "collapsed": true
   },
   "outputs": [],
   "source": [
    "import matplotlib.pyplot as plt\n",
    "%matplotlib inline  "
   ]
  },
  {
   "cell_type": "code",
   "execution_count": 155,
   "metadata": {
    "collapsed": false
   },
   "outputs": [
    {
     "data": {
      "application/javascript": [
       "$(\"head\").append($(\"<link/>\").attr({\n",
       "  rel:  \"stylesheet\",\n",
       "  type: \"text/css\",\n",
       "  href: \"//cdnjs.cloudflare.com/ajax/libs/font-awesome/4.1.0/css/font-awesome.min.css\"\n",
       "}));\n",
       "$(\"head\").append($(\"<link/>\").attr({\n",
       "  rel:  \"stylesheet\",\n",
       "  type: \"text/css\",\n",
       "  href: \"https://static.turi.com/products/graphlab-create/2.1/canvas/css/canvas.css\"\n",
       "}));\n",
       "\n",
       "            (function(){\n",
       "\n",
       "                var e = null;\n",
       "                if (typeof element == 'undefined') {\n",
       "                    var scripts = document.getElementsByTagName('script');\n",
       "                    var thisScriptTag = scripts[scripts.length-1];\n",
       "                    var parentDiv = thisScriptTag.parentNode;\n",
       "                    e = document.createElement('div');\n",
       "                    parentDiv.appendChild(e);\n",
       "                } else {\n",
       "                    e = element[0];\n",
       "                }\n",
       "\n",
       "                if (typeof requirejs !== 'undefined') {\n",
       "                    // disable load timeout; ipython_app.js is large and can take a while to load.\n",
       "                    requirejs.config({waitSeconds: 0});\n",
       "                }\n",
       "\n",
       "                require(['https://static.turi.com/products/graphlab-create/2.1/canvas/js/ipython_app.js'], function(IPythonApp){\n",
       "                    var app = new IPythonApp();\n",
       "                    app.attachView('sframe','Plots', {\"selected_variable\": {\"name\": [\"sales\"], \"descriptives\": {\"rows\": 21613, \"columns\": 21}, \"view_component\": \"Plots\", \"view_file\": \"sframe\", \"view_params\": {\"y\": \"price\", \"x\": \"sqft_living\", \"columns\": [\"id\", \"date\", \"price\", \"bedrooms\", \"bathrooms\", \"sqft_living\", \"sqft_lot\", \"floors\", \"waterfront\", \"view\", \"condition\", \"grade\", \"sqft_above\", \"sqft_basement\", \"yr_built\", \"yr_renovated\", \"zipcode\", \"lat\", \"long\", \"sqft_living15\", \"sqft_lot15\"], \"view\": \"Scatter Plot\"}, \"view_components\": [\"Summary\", \"Table\", \"Bar Chart\", \"BoxWhisker Plot\", \"Line Chart\", \"Scatter Plot\", \"Heat Map\", \"Plots\"], \"type\": \"SFrame\", \"columns\": [{\"dtype\": \"str\", \"name\": \"id\"}, {\"dtype\": \"datetime\", \"name\": \"date\"}, {\"dtype\": \"float\", \"name\": \"price\"}, {\"dtype\": \"float\", \"name\": \"bedrooms\"}, {\"dtype\": \"float\", \"name\": \"bathrooms\"}, {\"dtype\": \"float\", \"name\": \"sqft_living\"}, {\"dtype\": \"int\", \"name\": \"sqft_lot\"}, {\"dtype\": \"str\", \"name\": \"floors\"}, {\"dtype\": \"int\", \"name\": \"waterfront\"}, {\"dtype\": \"int\", \"name\": \"view\"}, {\"dtype\": \"int\", \"name\": \"condition\"}, {\"dtype\": \"int\", \"name\": \"grade\"}, {\"dtype\": \"int\", \"name\": \"sqft_above\"}, {\"dtype\": \"int\", \"name\": \"sqft_basement\"}, {\"dtype\": \"int\", \"name\": \"yr_built\"}, {\"dtype\": \"int\", \"name\": \"yr_renovated\"}, {\"dtype\": \"str\", \"name\": \"zipcode\"}, {\"dtype\": \"float\", \"name\": \"lat\"}, {\"dtype\": \"float\", \"name\": \"long\"}, {\"dtype\": \"float\", \"name\": \"sqft_living15\"}, {\"dtype\": \"float\", \"name\": \"sqft_lot15\"}], \"column_identifiers\": [\"bathrooms\", \"sqft_living15\", \"sqft_above\", \"grade\", \"yr_built\", \"price\", \"bedrooms\", \"zipcode\", \"long\", \"id\", \"sqft_lot15\", \"sqft_living\", \"floors\", \"sqft_lot\", \"date\", \"waterfront\", \"sqft_basement\", \"yr_renovated\", \"lat\", \"condition\", \"view\"]}, \"complete\": 1, \"ipython\": true, \"progress\": 1.0, \"data\": [[1880.0, 630000.0], [2570.0, 538000.0], [2490.0, 1145000.0], [1960.0, 604000.0], [1260.0, 549950.0], [1820.0, 605000.0], [1690.0, 440000.0], [1480.0, 455000.0], [1380.0, 350000.0], [6930.0, 2525000.0], [3750.0, 1310000.0], [1590.0, 300000.0], [1480.0, 459000.0], [950.0, 320000.0], [2220.0, 515000.0], [1090.0, 300000.0], [3630.0, 500000.0], [2290.0, 660000.0], [1490.0, 203000.0], [2290.0, 1058000.0], [1470.0, 270000.0], [2840.0, 760000.0], [1630.0, 305000.0], [1670.0, 660000.0], [990.0, 402500.0], [2290.0, 668500.0], [2080.0, 495000.0], [1120.0, 445000.0], [1470.0, 235000.0], [860.0, 199129.0], [1800.0, 365000.0], [1190.0, 280000.0], [990.0, 284950.0], [2080.0, 567500.0], [2770.0, 653000.0], [2060.0, 580000.0], [2640.0, 1100000.0], [2400.0, 280000.0], [1300.0, 287000.0], [2040.0, 510000.0], [3140.0, 925850.0], [3150.0, 705000.0], [2210.0, 330000.0], [1720.0, 535000.0], [1890.0, 570000.0], [3480.0, 532000.0], [2460.0, 678500.0], [3610.0, 610000.0], [1150.0, 475000.0], [2753.0, 1350000.0], [1540.0, 384000.0], [1210.0, 355000.0], [1490.0, 259500.0], [2690.0, 979000.0], [1510.0, 199000.0], [1970.0, 460000.0], [1450.0, 460000.0], [2830.0, 744000.0], [5540.0, 2630000.0], [1880.0, 268000.0], [2850.0, 545400.0], [1470.0, 241000.0], [940.0, 265000.0], [900.0, 305000.0], [1630.0, 474900.0], [1030.0, 335000.0], [2690.0, 635000.0], [1390.0, 246000.0], [1880.0, 315000.0], [2220.0, 585000.0], [1500.0, 707500.0], [2480.0, 540000.0], [1140.0, 199000.0], [2020.0, 375000.0], [1210.0, 160000.0], [840.0, 202000.0], [890.0, 682000.0], [2600.0, 250000.0], [880.0, 230000.0], [3100.0, 967000.0], [2750.0, 1050000.0], [2170.0, 250000.0], [1030.0, 175000.0], [1390.0, 258000.0], [3760.0, 1375000.0], [2060.0, 257500.0], [2110.0, 320000.0], [3217.0, 458000.0], [2160.0, 355000.0], [2720.0, 620000.0], [2370.0, 399888.0], [3240.0, 635700.0], [2710.0, 539500.0], [2920.0, 810000.0], [1440.0, 457000.0], [3300.0, 905000.0], [2475.0, 329900.0], [1160.0, 199000.0], [2716.0, 452000.0], [1510.0, 545000.0], [2860.0, 583500.0], [3760.0, 555000.0], [990.0, 120000.0], [2780.0, 325000.0], [2870.0, 646000.0], [640.0, 110000.0], [1670.0, 460000.0], [940.0, 551000.0], [1260.0, 499000.0], [1810.0, 229500.0], [1730.0, 500000.0], [5000.0, 1730000.0], [1670.0, 239950.0], [1970.0, 437500.0], [1900.0, 299950.0], [1960.0, 478000.0], [2910.0, 610000.0], [1380.0, 450000.0], [1570.0, 171800.0], [2140.0, 330000.0], [2080.0, 589950.0], [3690.0, 865000.0], [1480.0, 355000.0], [1760.0, 810000.0], [1646.0, 305000.0], [1700.0, 400000.0], [2430.0, 690000.0], [4060.0, 1175000.0], [2270.0, 420000.0], [8010.0, 5110800.0], [3350.0, 1000000.0], [3610.0, 982000.0], [3950.0, 784000.0], [2200.0, 585000.0], [5480.0, 2510000.0], [1320.0, 199000.0], [1860.0, 215000.0], [2550.0, 855000.0], [4285.0, 1890000.0], [1250.0, 333000.0], [720.0, 199000.0], [1890.0, 280500.0], [3190.0, 675000.0], [2240.0, 328000.0], [2030.0, 500000.0], [2460.0, 640000.0], [5350.0, 2885000.0], [1300.0, 229950.0], [1850.0, 295000.0], [1570.0, 447450.0], [1250.0, 355000.0], [1650.0, 490000.0], [2450.0, 510000.0], [1690.0, 302500.0], [1100.0, 574000.0], [1530.0, 575000.0], [2750.0, 869900.0], [2550.0, 435000.0], [2330.0, 550000.0], [3060.0, 715000.0], [2310.0, 750000.0], [3180.0, 775000.0], [2031.0, 335000.0], [1840.0, 380000.0], [1980.0, 606000.0], [1310.0, 514700.0], [3060.0, 826000.0], [1330.0, 320000.0], [1470.0, 300000.0], [1540.0, 582500.0], [2370.0, 330000.0], [1830.0, 210000.0], [2990.0, 594491.0], [2010.0, 627800.0], [1747.0, 267500.0], [1380.0, 473000.0], [1090.0, 190000.0], [2070.0, 470000.0], [2330.0, 645000.0], [1420.0, 294000.0], [1170.0, 175000.0], [1230.0, 320000.0], [1020.0, 455000.0], [1800.0, 364000.0], [970.0, 217000.0], [3850.0, 1200000.0], [3320.0, 685000.0], [1690.0, 440000.0], [4910.0, 1675000.0], [4360.0, 795127.0], [1560.0, 324950.0], [1040.0, 420000.0], [4660.0, 2641100.0], [3470.0, 994000.0], [1540.0, 221000.0], [3500.0, 655000.0], [2460.0, 355000.0], [2680.0, 599990.0], [4430.0, 970000.0], [1590.0, 434975.0], [1730.0, 216000.0], [1100.0, 353000.0], [1150.0, 425000.0], [1590.0, 580000.0], [2240.0, 689000.0], [1750.0, 329950.0], [1802.0, 320000.0], [1500.0, 485000.0], [2330.0, 270000.0], [910.0, 245000.0], [1920.0, 475000.0], [1170.0, 255000.0], [2610.0, 368000.0], [3700.0, 1400000.0], [1040.0, 170000.0], [2640.0, 610000.0], [1110.0, 750000.0], [2050.0, 455000.0], [2030.0, 295000.0], [1810.0, 295000.0], [1980.0, 700000.0], [1050.0, 249000.0], [2590.0, 815000.0], [1440.0, 432250.0], [2230.0, 1003000.0], [2390.0, 625000.0], [2710.0, 258000.0], [3030.0, 455000.0], [1660.0, 432000.0], [3110.0, 1415000.0], [2020.0, 330000.0], [2500.0, 430000.0], [2940.0, 315000.0], [1770.0, 464000.0], [1500.0, 277000.0], [940.0, 225000.0], [1650.0, 500000.0], [1840.0, 275000.0], [2790.0, 640000.0], [2190.0, 320000.0], [2560.0, 750000.0], [830.0, 210000.0], [2270.0, 560000.0], [3530.0, 963000.0], [2060.0, 574000.0], [3200.0, 1184000.0], [2460.0, 665000.0], [1780.0, 771000.0], [1050.0, 295000.0], [1650.0, 445000.0], [2050.0, 655275.0], [2250.0, 675000.0], [1440.0, 604000.0], [830.0, 350000.0], [1400.0, 180000.0], [4770.0, 1475000.0], [2390.0, 250000.0], [1810.0, 503500.0], [790.0, 436000.0], [2750.0, 430000.0], [2330.0, 669950.0], [2200.0, 1230000.0], [3270.0, 765000.0], [3070.0, 1920000.0], [1760.0, 385000.0], [1700.0, 290000.0], [2920.0, 650000.0], [2260.0, 759000.0], [2520.0, 272000.0], [2060.0, 500000.0], [1790.0, 509900.0], [2440.0, 550000.0], [1150.0, 305000.0], [2270.0, 507250.0], [680.0, 510000.0], [1260.0, 445000.0], [2290.0, 450000.0], [1370.0, 585000.0], [1000.0, 196000.0], [2260.0, 359950.0], [1530.0, 443000.0], [1770.0, 270000.0], [4420.0, 890000.0], [1610.0, 485000.0], [2480.0, 725000.0], [1060.0, 344000.0], [1510.0, 309950.0], [1200.0, 160000.0], [3080.0, 750000.0], [1400.0, 305000.0], [1880.0, 541900.0], [1770.0, 325000.0], [3030.0, 590000.0], [1640.0, 410000.0], [2600.0, 452000.0], [2220.0, 555000.0], [1320.0, 265000.0], [2730.0, 885000.0], [2090.0, 830000.0], [3010.0, 401000.0], [2910.0, 718500.0], [1400.0, 538000.0], [2610.0, 515000.0], [1630.0, 575000.0], [2310.0, 515000.0], [810.0, 450000.0], [4020.0, 900000.0], [1900.0, 470000.0], [2350.0, 650000.0], [1920.0, 615000.0], [4280.0, 1138990.0], [1810.0, 300000.0], [1690.0, 338000.0], [1260.0, 248000.0], [1980.0, 479900.0], [2240.0, 323500.0], [1680.0, 330000.0], [1150.0, 260000.0], [1050.0, 349950.0], [810.0, 238950.0], [2270.0, 724950.0], [860.0, 315000.0], [2500.0, 319500.0], [1010.0, 189000.0], [1360.0, 244000.0], [2540.0, 531000.0], [1100.0, 421000.0], [2990.0, 750000.0], [2795.0, 562000.0], [1680.0, 210000.0], [1480.0, 427500.0], [2640.0, 518000.0], [1890.0, 437000.0], [910.0, 280000.0], [3120.0, 341500.0], [1710.0, 620000.0], [3410.0, 2250000.0], [1430.0, 215000.0], [2540.0, 475000.0], [1430.0, 265000.0], [1680.0, 675000.0], [1400.0, 507250.0], [1550.0, 380000.0], [1980.0, 564000.0], [1210.0, 430000.0], [5470.0, 975000.0], [1160.0, 175000.0], [1550.0, 805000.0], [840.0, 124500.0], [2230.0, 537000.0], [1170.0, 209977.0], [1300.0, 425000.0], [910.0, 425000.0], [1500.0, 782000.0], [1820.0, 455850.0], [2420.0, 1490000.0], [1920.0, 1011000.0], [2860.0, 666500.0], [2170.0, 560000.0], [3330.0, 555000.0], [3980.0, 1582500.0], [1040.0, 210000.0], [2150.0, 435000.0], [1990.0, 500000.0], [1010.0, 370000.0], [1430.0, 440000.0], [980.0, 197500.0], [2260.0, 380000.0], [5720.0, 1325000.0], [2400.0, 505000.0], [910.0, 445000.0], [1250.0, 579500.0], [760.0, 261590.0], [1530.0, 465000.0], [2610.0, 780000.0], [1380.0, 275900.0], [1600.0, 385000.0], [1600.0, 492500.0], [2090.0, 489500.0], [2475.0, 335900.0], [1810.0, 550000.0], [3120.0, 1895000.0], [2080.0, 267500.0], [1660.0, 601150.0], [1470.0, 432500.0], [2490.0, 590000.0], [2750.0, 980000.0], [1920.0, 299000.0], [1430.0, 252000.0], [1770.0, 295000.0], [730.0, 114000.0], [1980.0, 490000.0], [2490.0, 370000.0], [2220.0, 437000.0], [3840.0, 1118000.0], [1030.0, 240000.0], [1640.0, 379500.0], [1980.0, 342000.0], [2900.0, 850000.0], [3270.0, 1033888.0], [720.0, 419000.0], [1990.0, 540000.0], [2310.0, 440000.0], [1420.0, 192500.0], [1350.0, 388000.0], [2370.0, 800000.0], [2070.0, 348000.0], [960.0, 374500.0], [2900.0, 450000.0], [480.0, 145000.0], [3030.0, 875000.0], [833.0, 517534.0], [2270.0, 732350.0], [1720.0, 279950.0], [1040.0, 217500.0], [2730.0, 980000.0], [2760.0, 745000.0], [2720.0, 632500.0], [2010.0, 434000.0], [2510.0, 860000.0], [2320.0, 475000.0], [1560.0, 566000.0], [1690.0, 544500.0], [1690.0, 498000.0], [3470.0, 1300000.0], [2789.0, 272000.0], [3060.0, 710000.0], [2780.0, 709000.0], [2350.0, 700000.0], [1110.0, 222900.0], [1240.0, 402000.0], [2370.0, 750000.0], [1940.0, 274000.0], [2700.0, 744500.0], [1070.0, 382000.0], [2740.0, 483500.0], [1690.0, 564000.0], [1160.0, 459000.0], [1740.0, 275000.0], [2120.0, 578000.0], [2510.0, 994000.0], [1530.0, 640000.0], [1020.0, 230000.0], [1860.0, 239900.0], [1270.0, 570000.0], [3890.0, 2250000.0], [3545.0, 1030000.0], [1260.0, 505000.0], [1140.0, 158000.0], [700.0, 415000.0], [1410.0, 230000.0], [1770.0, 638500.0], [1400.0, 232000.0], [1540.0, 324000.0], [1330.0, 443500.0], [2610.0, 440000.0], [3440.0, 560000.0], [1580.0, 290000.0], [1720.0, 200000.0], [2780.0, 625000.0], [1100.0, 465000.0], [2090.0, 543000.0], [2060.0, 510000.0], [980.0, 215000.0], [2481.0, 309000.0], [430.0, 80000.0], [2700.0, 470000.0], [2650.0, 728000.0], [2270.0, 340500.0], [1770.0, 606150.0], [2050.0, 383000.0], [1740.0, 435000.0], [2270.0, 390000.0], [2120.0, 550000.0], [2610.0, 608000.0], [2990.0, 350000.0], [970.0, 313300.0], [5120.0, 1550000.0], [1000.0, 220000.0], [2690.0, 597157.0], [1360.0, 150000.0], [1770.0, 286000.0], [1060.0, 235000.0], [1730.0, 499990.0], [1600.0, 525000.0], [1800.0, 556000.0], [4560.0, 1215000.0], [1260.0, 785000.0], [1509.0, 410000.0], [940.0, 249950.0], [2780.0, 870000.0], [1300.0, 539900.0], [2130.0, 515000.0], [2820.0, 669950.0], [1600.0, 218500.0], [2060.0, 275000.0], [4750.0, 487000.0], [2590.0, 539000.0], [3030.0, 599900.0], [1190.0, 375000.0], [2340.0, 465000.0], [840.0, 400000.0], [2390.0, 926250.0], [2840.0, 345000.0], [1090.0, 285000.0], [1530.0, 595000.0], [1490.0, 410000.0], [2030.0, 565000.0], [1020.0, 485000.0], [4030.0, 1485000.0], [990.0, 222500.0], [860.0, 256000.0], [4410.0, 1095000.0], [1270.0, 440000.0], [1790.0, 260000.0], [1812.0, 370000.0], [1920.0, 353000.0], [1710.0, 230000.0], [1870.0, 458000.0], [2940.0, 528000.0], [1370.0, 524000.0], [630.0, 190000.0], [1510.0, 599950.0], [1980.0, 570000.0], [2430.0, 452500.0], [2390.0, 750000.0], [2660.0, 425000.0], [1680.0, 530000.0], [1220.0, 670000.0], [4380.0, 945000.0], [1820.0, 234000.0], [2140.0, 365000.0], [2560.0, 825000.0], [3360.0, 765000.0], [860.0, 219900.0], [2460.0, 599000.0], [1630.0, 312900.0], [2140.0, 236500.0], [2400.0, 495000.0], [1830.0, 440000.0], [2280.0, 565000.0], [2650.0, 398651.0], [800.0, 95000.0], [3280.0, 809950.0], [1670.0, 310000.0], [3320.0, 802500.0], [1170.0, 250000.0], [1500.0, 240000.0], [1320.0, 304000.0], [2190.0, 520000.0], [4570.0, 1098000.0], [1040.0, 418000.0], [960.0, 365000.0], [2230.0, 333500.0], [2410.0, 711800.0], [990.0, 220500.0], [2680.0, 470000.0], [3100.0, 975000.0], [1820.0, 825000.0], [2570.0, 675000.0], [2800.0, 255000.0], [840.0, 180000.0], [5584.0, 1680000.0], [4120.0, 863000.0], [2170.0, 645000.0], [1850.0, 181100.0], [2240.0, 344950.0], [1580.0, 267000.0], [2420.0, 752888.0], [1160.0, 405000.0], [820.0, 260000.0], [2150.0, 580000.0], [3620.0, 825000.0], [1960.0, 277000.0], [3920.0, 965000.0], [2570.0, 339990.0], [1540.0, 345000.0], [1680.0, 290500.0], [1440.0, 323000.0], [2360.0, 445000.0], [2720.0, 619000.0], [1970.0, 509950.0], [900.0, 334000.0], [1720.0, 622200.0], [1420.0, 268500.0], [3630.0, 834950.0], [1170.0, 299950.0], [2380.0, 340000.0], [2910.0, 805000.0], [1950.0, 325000.0], [730.0, 122000.0], [1380.0, 435000.0], [1670.0, 505000.0], [2820.0, 321027.0], [990.0, 245000.0], [3410.0, 545000.0], [1450.0, 435000.0], [1060.0, 578888.0], [1870.0, 475000.0], [1640.0, 409000.0], [820.0, 480000.0], [2320.0, 345000.0], [1930.0, 550000.0], [1330.0, 417500.0], [1250.0, 400000.0], [1750.0, 465000.0], [3010.0, 1240000.0], [1280.0, 319950.0], [1070.0, 330000.0], [2320.0, 384000.0], [1680.0, 500000.0], [2030.0, 775000.0], [1540.0, 565000.0], [2970.0, 665000.0], [2800.0, 1028000.0], [3400.0, 510000.0], [1740.0, 410000.0], [2110.0, 319000.0], [1250.0, 175000.0], [3330.0, 750000.0], [1180.0, 425000.0], [1060.0, 370000.0], [840.0, 130000.0], [7220.0, 1940000.0], [2520.0, 565000.0], [1700.0, 520000.0], [2690.0, 439000.0], [1160.0, 312000.0], [520.0, 295000.0], [2210.0, 516000.0], [1990.0, 260000.0], [1910.0, 323000.0], [1240.0, 352900.0], [2460.0, 637000.0], [2690.0, 1298888.0], [2100.0, 344000.0], [2410.0, 822000.0], [2710.0, 535000.0], [1930.0, 230000.0], [2930.0, 445000.0], [1900.0, 375000.0], [2730.0, 535000.0], [3740.0, 595000.0], [2110.0, 324950.0], [2740.0, 705000.0], [2520.0, 335000.0], [3220.0, 605000.0], [1990.0, 234550.0], [1950.0, 564500.0], [1400.0, 246000.0], [1370.0, 375000.0], [1640.0, 390000.0], [1100.0, 233000.0], [2720.0, 709050.0], [1540.0, 570000.0], [2270.0, 631000.0], [1380.0, 230000.0], [1370.0, 548000.0], [4170.0, 623300.0], [1390.0, 234000.0], [2330.0, 335000.0], [3400.0, 340000.0], [1500.0, 436000.0], [1255.0, 312000.0], [1290.0, 323000.0], [2600.0, 817000.0], [3460.0, 1750000.0], [3680.0, 1475000.0], [2290.0, 630000.0], [1280.0, 280000.0], [2690.0, 699850.0], [2190.0, 630000.0], [2450.0, 620000.0], [1480.0, 315000.0], [4070.0, 993500.0], [1870.0, 497000.0], [2140.0, 280000.0], [2710.0, 430760.0], [1600.0, 265000.0], [4510.0, 1815000.0], [1730.0, 423000.0], [1800.0, 425000.0], [4020.0, 1050000.0], [1750.0, 279000.0], [1200.0, 173000.0], [1430.0, 275000.0], [1130.0, 272000.0], [2340.0, 1568000.0], [1520.0, 380000.0], [2370.0, 715000.0], [1220.0, 255000.0], [2600.0, 540000.0], [2470.0, 359900.0], [1710.0, 539000.0], [2570.0, 355000.0], [2030.0, 359500.0], [2170.0, 638150.0], [4490.0, 1680000.0], [1720.0, 500000.0], [2390.0, 260000.0], [1630.0, 265000.0], [1100.0, 320000.0], [1110.0, 371000.0], [2020.0, 340000.0], [1200.0, 329000.0], [2340.0, 315000.0], [1480.0, 641000.0], [1650.0, 435000.0], [1260.0, 445000.0], [800.0, 405000.0], [4920.0, 1042000.0], [3110.0, 751000.0], [1650.0, 485000.0], [2040.0, 294000.0], [2670.0, 345000.0], [2490.0, 725000.0], [2160.0, 440000.0], [3390.0, 460000.0], [2400.0, 569000.0], [1530.0, 381800.0], [2180.0, 625000.0], [3390.0, 915000.0], [2850.0, 775000.0], [1790.0, 460000.0], [1610.0, 246700.0], [1630.0, 285000.0], [2580.0, 456500.0], [1090.0, 249950.0], [2490.0, 616950.0], [1900.0, 580000.0], [1900.0, 250000.0], [2520.0, 480000.0], [2090.0, 403000.0], [2100.0, 1081000.0], [1830.0, 212000.0], [2820.0, 677000.0], [1910.0, 588000.0], [1220.0, 447000.0], [1410.0, 425000.0], [3420.0, 641000.0], [4350.0, 1375000.0], [3090.0, 775000.0], [2820.0, 810000.0], [1640.0, 269500.0], [2060.0, 417500.0], [2020.0, 415000.0], [2430.0, 412950.0], [1410.0, 335000.0], [2340.0, 522250.0], [3390.0, 775000.0], [3270.0, 875000.0], [3010.0, 600000.0], [2740.0, 675000.0], [2920.0, 875000.0], [3090.0, 891500.0], [1480.0, 269950.0], [1760.0, 647500.0], [1480.0, 320000.0], [970.0, 345000.0], [2420.0, 870000.0], [1810.0, 272000.0], [1970.0, 371000.0], [4440.0, 959000.0], [1390.0, 400000.0], [1830.0, 423000.0], [2300.0, 705000.0], [1489.0, 260000.0], [1660.0, 975000.0], [1300.0, 440000.0], [2350.0, 539000.0], [1180.0, 330000.0], [1610.0, 590000.0], [970.0, 261000.0], [2630.0, 625000.0], [1890.0, 458500.0], [3300.0, 760000.0], [1250.0, 230000.0], [1580.0, 530000.0], [1430.0, 285000.0], [1840.0, 620000.0], [1280.0, 297000.0], [1400.0, 430000.0], [1240.0, 320000.0], [3660.0, 475000.0], [1160.0, 458500.0], [1170.0, 119500.0], [2560.0, 585000.0], [2780.0, 717000.0], [1470.0, 380000.0], [3770.0, 950000.0], [1000.0, 217000.0], [1170.0, 352500.0], [1710.0, 479000.0], [1840.0, 442500.0], [2540.0, 652500.0], [1530.0, 320000.0], [1150.0, 171500.0], [1680.0, 412500.0], [2340.0, 685000.0], [1430.0, 350000.0], [1840.0, 380000.0], [2010.0, 625000.0], [2250.0, 411000.0], [2660.0, 1100000.0], [2880.0, 660000.0], [2130.0, 215000.0], [1120.0, 546000.0], [2150.0, 607000.0], [1120.0, 440000.0], [1960.0, 285750.0], [1740.0, 435000.0], [1200.0, 210000.0], [2080.0, 520000.0], [2810.0, 624000.0], [1160.0, 229950.0], [3600.0, 970000.0], [3310.0, 775000.0], [2460.0, 405000.0], [2240.0, 625000.0], [2210.0, 294000.0], [2070.0, 503000.0], [3490.0, 414000.0], [2450.0, 687500.0], [1490.0, 285000.0], [2580.0, 1099500.0], [2800.0, 405000.0], [2490.0, 1705000.0], [1740.0, 480000.0], [760.0, 110000.0], [3020.0, 790000.0], [1710.0, 234000.0], [2130.0, 1300000.0], [3040.0, 760000.0], [1210.0, 414500.0], [880.0, 248500.0], [1920.0, 324500.0], [2670.0, 732000.0], [1530.0, 230000.0], [1630.0, 165000.0], [3380.0, 1190000.0], [1480.0, 224000.0], [1390.0, 278500.0], [1540.0, 273000.0], [1090.0, 267000.0], [2770.0, 685000.0], [1480.0, 402500.0], [1800.0, 495000.0], [2590.0, 674750.0], [2500.0, 235000.0], [1660.0, 566000.0], [1580.0, 259000.0], [2600.0, 310000.0], [960.0, 325000.0], [1700.0, 472500.0], [1930.0, 326000.0], [2870.0, 564000.0], [1650.0, 440000.0], [2880.0, 1795000.0], [1300.0, 247500.0], [1860.0, 460000.0], [910.0, 450000.0], [2140.0, 524000.0], [1800.0, 575000.0], [1710.0, 390000.0], [1400.0, 299000.0], [1730.0, 563000.0], [1840.0, 625000.0], [2150.0, 560000.0], [1520.0, 279000.0], [1280.0, 281000.0], [1290.0, 310000.0], [890.0, 510000.0], [3160.0, 1600000.0], [2005.0, 491000.0], [3380.0, 435000.0], [1110.0, 235000.0], [1070.0, 195000.0], [1910.0, 390000.0], [940.0, 358000.0], [1460.0, 237950.0], [2390.0, 535000.0], [1090.0, 280000.0], [1070.0, 420000.0], [2210.0, 530000.0], [1480.0, 315000.0], [1260.0, 312620.0], [3910.0, 782000.0], [1570.0, 560000.0], [1890.0, 620000.0], [2070.0, 379500.0], [3510.0, 540000.0], [1580.0, 402000.0], [3560.0, 882990.0], [1660.0, 638000.0], [2080.0, 270000.0], [2130.0, 780000.0], [1710.0, 353750.0], [1320.0, 425000.0], [2800.0, 440000.0], [1730.0, 550000.0], [2970.0, 905000.0], [2370.0, 404000.0], [1350.0, 700000.0], [1670.0, 696000.0], [2030.0, 295450.0], [2350.0, 510000.0], [1010.0, 308000.0], [3290.0, 750000.0], [3140.0, 1640000.0], [1400.0, 435000.0], [2518.0, 643000.0], [1460.0, 539000.0], [2190.0, 833000.0], [3400.0, 815000.0], [1500.0, 415000.0], [750.0, 250000.0], [1460.0, 395000.0], [1120.0, 362000.0], [2010.0, 335000.0], [1420.0, 264250.0], [2560.0, 577000.0], [2550.0, 430000.0], [2160.0, 383000.0], [4750.0, 2175000.0], [1700.0, 300000.0], [1130.0, 340000.0], [3320.0, 622500.0], [2020.0, 390000.0], [2100.0, 546000.0], [1250.0, 410000.0], [960.0, 280000.0], [2490.0, 390000.0], [2120.0, 453000.0], [850.0, 229950.0], [1500.0, 605000.0], [3660.0, 1200000.0], [1820.0, 329950.0], [2070.0, 535100.0], [4360.0, 2300000.0], [1800.0, 383000.0], [1300.0, 365000.0], [2780.0, 449900.0], [1440.0, 490000.0], [1500.0, 606000.0], [1500.0, 395000.0], [1450.0, 526000.0], [2420.0, 675000.0], [1630.0, 610000.0], [2540.0, 628990.0], [1540.0, 272500.0], [1410.0, 343000.0], [2610.0, 650000.0], [1490.0, 460500.0], [2120.0, 625000.0], [2700.0, 520000.0], [2140.0, 507000.0], [4870.0, 1735000.0], [2270.0, 480000.0], [1000.0, 230000.0], [3710.0, 552500.0], [960.0, 235000.0], [1990.0, 450000.0], [1480.0, 620000.0], [1070.0, 325000.0], [890.0, 314963.0], [2140.0, 589999.0], [1650.0, 359000.0], [740.0, 350000.0], [1870.0, 455000.0], [1640.0, 370000.0], [2230.0, 235000.0], [1390.0, 745000.0], [1070.0, 406650.0], [1530.0, 654000.0], [1175.0, 342000.0], [1710.0, 372000.0], [1270.0, 292000.0], [2233.0, 317500.0], [1650.0, 385000.0], [2168.0, 575000.0], [1140.0, 329950.0], [5430.0, 1240000.0], [1680.0, 425000.0], [2840.0, 870000.0], [1070.0, 208000.0], [2230.0, 334950.0], [1640.0, 579000.0], [1310.0, 290000.0], [3470.0, 772000.0], [4560.0, 695000.0], [3100.0, 800000.0], [1460.0, 499922.0], [4780.0, 1640000.0], [3310.0, 429900.0], [2210.0, 415000.0], [1360.0, 280000.0], [1120.0, 365000.0], [860.0, 320000.0], [1660.0, 279000.0], [2040.0, 506000.0]], \"columns\": [{\"dtype\": \"str\", \"name\": \"id\"}, {\"dtype\": \"datetime\", \"name\": \"date\"}, {\"dtype\": \"float\", \"name\": \"price\"}, {\"dtype\": \"float\", \"name\": \"bedrooms\"}, {\"dtype\": \"float\", \"name\": \"bathrooms\"}, {\"dtype\": \"float\", \"name\": \"sqft_living\"}, {\"dtype\": \"int\", \"name\": \"sqft_lot\"}, {\"dtype\": \"str\", \"name\": \"floors\"}, {\"dtype\": \"int\", \"name\": \"waterfront\"}, {\"dtype\": \"int\", \"name\": \"view\"}, {\"dtype\": \"int\", \"name\": \"condition\"}, {\"dtype\": \"int\", \"name\": \"grade\"}, {\"dtype\": \"int\", \"name\": \"sqft_above\"}, {\"dtype\": \"int\", \"name\": \"sqft_basement\"}, {\"dtype\": \"int\", \"name\": \"yr_built\"}, {\"dtype\": \"int\", \"name\": \"yr_renovated\"}, {\"dtype\": \"str\", \"name\": \"zipcode\"}, {\"dtype\": \"float\", \"name\": \"lat\"}, {\"dtype\": \"float\", \"name\": \"long\"}, {\"dtype\": \"float\", \"name\": \"sqft_living15\"}, {\"dtype\": \"float\", \"name\": \"sqft_lot15\"}]}, e);\n",
       "                });\n",
       "            })();\n",
       "        "
      ]
     },
     "metadata": {},
     "output_type": "display_data"
    }
   ],
   "source": [
    "graphlab.canvas.set_target('ipynb')\n",
    "sales.show(view=\"Scatter Plot\", x=\"sqft_living\",y=\"price\")"
   ]
  },
  {
   "cell_type": "code",
   "execution_count": 156,
   "metadata": {
    "collapsed": false
   },
   "outputs": [
    {
     "data": {
      "application/javascript": [
       "$(\"head\").append($(\"<link/>\").attr({\n",
       "  rel:  \"stylesheet\",\n",
       "  type: \"text/css\",\n",
       "  href: \"//cdnjs.cloudflare.com/ajax/libs/font-awesome/4.1.0/css/font-awesome.min.css\"\n",
       "}));\n",
       "$(\"head\").append($(\"<link/>\").attr({\n",
       "  rel:  \"stylesheet\",\n",
       "  type: \"text/css\",\n",
       "  href: \"https://static.turi.com/products/graphlab-create/2.1/canvas/css/canvas.css\"\n",
       "}));\n",
       "\n",
       "            (function(){\n",
       "\n",
       "                var e = null;\n",
       "                if (typeof element == 'undefined') {\n",
       "                    var scripts = document.getElementsByTagName('script');\n",
       "                    var thisScriptTag = scripts[scripts.length-1];\n",
       "                    var parentDiv = thisScriptTag.parentNode;\n",
       "                    e = document.createElement('div');\n",
       "                    parentDiv.appendChild(e);\n",
       "                } else {\n",
       "                    e = element[0];\n",
       "                }\n",
       "\n",
       "                if (typeof requirejs !== 'undefined') {\n",
       "                    // disable load timeout; ipython_app.js is large and can take a while to load.\n",
       "                    requirejs.config({waitSeconds: 0});\n",
       "                }\n",
       "\n",
       "                require(['https://static.turi.com/products/graphlab-create/2.1/canvas/js/ipython_app.js'], function(IPythonApp){\n",
       "                    var app = new IPythonApp();\n",
       "                    app.attachView('sframe','Plots', {\"selected_variable\": {\"name\": [\"sales\"], \"descriptives\": {\"rows\": 21613, \"columns\": 21}, \"view_component\": \"Plots\", \"view_file\": \"sframe\", \"view_params\": {\"y\": \"price\", \"x\": \"bedrooms\", \"columns\": [\"id\", \"date\", \"price\", \"bedrooms\", \"bathrooms\", \"sqft_living\", \"sqft_lot\", \"floors\", \"waterfront\", \"view\", \"condition\", \"grade\", \"sqft_above\", \"sqft_basement\", \"yr_built\", \"yr_renovated\", \"zipcode\", \"lat\", \"long\", \"sqft_living15\", \"sqft_lot15\"], \"view\": \"Scatter Plot\"}, \"view_components\": [\"Summary\", \"Table\", \"Bar Chart\", \"BoxWhisker Plot\", \"Line Chart\", \"Scatter Plot\", \"Heat Map\", \"Plots\"], \"type\": \"SFrame\", \"columns\": [{\"dtype\": \"str\", \"name\": \"id\"}, {\"dtype\": \"datetime\", \"name\": \"date\"}, {\"dtype\": \"float\", \"name\": \"price\"}, {\"dtype\": \"float\", \"name\": \"bedrooms\"}, {\"dtype\": \"float\", \"name\": \"bathrooms\"}, {\"dtype\": \"float\", \"name\": \"sqft_living\"}, {\"dtype\": \"int\", \"name\": \"sqft_lot\"}, {\"dtype\": \"str\", \"name\": \"floors\"}, {\"dtype\": \"int\", \"name\": \"waterfront\"}, {\"dtype\": \"int\", \"name\": \"view\"}, {\"dtype\": \"int\", \"name\": \"condition\"}, {\"dtype\": \"int\", \"name\": \"grade\"}, {\"dtype\": \"int\", \"name\": \"sqft_above\"}, {\"dtype\": \"int\", \"name\": \"sqft_basement\"}, {\"dtype\": \"int\", \"name\": \"yr_built\"}, {\"dtype\": \"int\", \"name\": \"yr_renovated\"}, {\"dtype\": \"str\", \"name\": \"zipcode\"}, {\"dtype\": \"float\", \"name\": \"lat\"}, {\"dtype\": \"float\", \"name\": \"long\"}, {\"dtype\": \"float\", \"name\": \"sqft_living15\"}, {\"dtype\": \"float\", \"name\": \"sqft_lot15\"}], \"column_identifiers\": [\"bathrooms\", \"sqft_living15\", \"sqft_above\", \"grade\", \"yr_built\", \"price\", \"bedrooms\", \"zipcode\", \"long\", \"id\", \"sqft_lot15\", \"sqft_living\", \"floors\", \"sqft_lot\", \"date\", \"waterfront\", \"sqft_basement\", \"yr_renovated\", \"lat\", \"condition\", \"view\"]}, \"complete\": 1, \"ipython\": true, \"progress\": 1.0, \"data\": [[4.0, 1035000.0], [4.0, 380000.0], [4.0, 830000.0], [4.0, 615750.0], [4.0, 354450.0], [6.0, 632000.0], [4.0, 490000.0], [3.0, 475000.0], [2.0, 438400.0], [3.0, 222000.0], [3.0, 440000.0], [3.0, 410000.0], [4.0, 580000.0], [3.0, 450000.0], [4.0, 800000.0], [4.0, 1515000.0], [3.0, 725000.0], [3.0, 420000.0], [3.0, 703000.0], [4.0, 440000.0], [4.0, 462500.0], [3.0, 450000.0], [3.0, 268000.0], [4.0, 921800.0], [4.0, 1580000.0], [5.0, 564000.0], [3.0, 155000.0], [3.0, 440000.0], [4.0, 725000.0], [3.0, 389950.0], [4.0, 670500.0], [2.0, 255000.0], [3.0, 469000.0], [4.0, 825000.0], [4.0, 295000.0], [4.0, 940000.0], [4.0, 299500.0], [3.0, 282000.0], [4.0, 370000.0], [3.0, 253000.0], [2.0, 457000.0], [4.0, 362000.0], [4.0, 805000.0], [3.0, 600000.0], [5.0, 259875.0], [3.0, 204250.0], [4.0, 595000.0], [4.0, 550000.0], [3.0, 450000.0], [3.0, 530100.0], [3.0, 228000.0], [3.0, 259500.0], [1.0, 641500.0], [4.0, 448000.0], [3.0, 781000.0], [4.0, 799000.0], [2.0, 299500.0], [3.0, 301000.0], [3.0, 500000.0], [4.0, 650000.0], [3.0, 329900.0], [3.0, 400000.0], [4.0, 1760000.0], [3.0, 237000.0], [5.0, 534000.0], [3.0, 175000.0], [4.0, 319000.0], [4.0, 287000.0], [3.0, 490000.0], [3.0, 445000.0], [3.0, 506950.0], [4.0, 310000.0], [4.0, 600000.0], [3.0, 635000.0], [3.0, 1476000.0], [4.0, 272000.0], [3.0, 183000.0], [2.0, 422000.0], [3.0, 205000.0], [2.0, 193500.0], [3.0, 365000.0], [2.0, 495000.0], [2.0, 427550.0], [2.0, 631500.0], [4.0, 555000.0], [2.0, 175000.0], [3.0, 432500.0], [4.0, 750000.0], [6.0, 540000.0], [4.0, 635000.0], [4.0, 1260500.0], [3.0, 267500.0], [3.0, 153000.0], [4.0, 572000.0], [4.0, 750000.0], [3.0, 556000.0], [3.0, 340000.0], [3.0, 364250.0], [3.0, 314000.0], [3.0, 277284.0], [3.0, 235000.0], [3.0, 750000.0], [4.0, 276000.0], [4.0, 645000.0], [4.0, 290000.0], [4.0, 495000.0], [5.0, 260000.0], [3.0, 716000.0], [3.0, 870000.0], [2.0, 475000.0], [5.0, 445000.0], [1.0, 396000.0], [3.0, 387000.0], [2.0, 420000.0], [4.0, 375000.0], [4.0, 1575000.0], [4.0, 880000.0], [3.0, 257000.0], [4.0, 171800.0], [4.0, 817000.0], [2.0, 362500.0], [3.0, 598555.0], [4.0, 485000.0], [4.0, 445000.0], [2.0, 500000.0], [3.0, 279900.0], [4.0, 889000.0], [3.0, 650000.0], [5.0, 3635000.0], [3.0, 200126.0], [3.0, 443000.0], [4.0, 731688.0], [3.0, 399950.0], [3.0, 249900.0], [3.0, 382880.0], [2.0, 280000.0], [2.0, 438000.0], [4.0, 525000.0], [3.0, 449500.0], [4.0, 915000.0], [4.0, 1320000.0], [3.0, 503000.0], [4.0, 305000.0], [3.0, 315000.0], [3.0, 627000.0], [3.0, 439990.0], [3.0, 850000.0], [4.0, 899000.0], [4.0, 706000.0], [3.0, 169100.0], [4.0, 610000.0], [4.0, 1264000.0], [2.0, 354000.0], [2.0, 392800.0], [4.0, 2450000.0], [2.0, 614306.0], [4.0, 240000.0], [6.0, 1180000.0], [3.0, 285000.0], [3.0, 499950.0], [3.0, 395000.0], [4.0, 195000.0], [3.0, 230000.0], [3.0, 441000.0], [4.0, 600000.0], [3.0, 665000.0], [4.0, 248000.0], [4.0, 785000.0], [3.0, 795000.0], [3.0, 960000.0], [3.0, 699000.0], [4.0, 549995.0], [3.0, 265000.0], [4.0, 160000.0], [3.0, 430000.0], [3.0, 425000.0], [3.0, 290000.0], [6.0, 326000.0], [4.0, 650000.0], [3.0, 829000.0], [4.0, 657500.0], [3.0, 435000.0], [4.0, 835000.0], [3.0, 379600.0], [3.0, 264500.0], [2.0, 1425000.0], [3.0, 450000.0], [2.0, 450000.0], [3.0, 265000.0], [5.0, 860000.0], [2.0, 235000.0], [4.0, 495000.0], [4.0, 261490.0], [2.0, 229950.0], [4.0, 500000.0], [4.0, 563950.0], [3.0, 676000.0], [2.0, 355000.0], [4.0, 312000.0], [2.0, 144975.0], [3.0, 575000.0], [3.0, 470000.0], [3.0, 336500.0], [3.0, 499950.0], [5.0, 355000.0], [2.0, 450600.0], [5.0, 330000.0], [3.0, 425000.0], [2.0, 229950.0], [3.0, 352000.0], [3.0, 653450.0], [5.0, 325000.0], [4.0, 223000.0], [3.0, 270000.0], [4.0, 334009.0], [3.0, 440000.0], [4.0, 813000.0], [4.0, 510000.0], [3.0, 375000.0], [3.0, 398000.0], [4.0, 686000.0], [2.0, 580000.0], [3.0, 563225.0], [3.0, 650000.0], [4.0, 500000.0], [3.0, 344950.0], [4.0, 850000.0], [3.0, 530000.0], [4.0, 376000.0], [3.0, 616000.0], [6.0, 230000.0], [3.0, 260000.0], [3.0, 322400.0], [2.0, 595000.0], [3.0, 475000.0], [4.0, 1400000.0], [4.0, 430000.0], [2.0, 216500.0], [3.0, 500000.0], [4.0, 625000.0], [4.0, 313100.0], [4.0, 332500.0], [5.0, 1120000.0], [2.0, 225000.0], [5.0, 380000.0], [4.0, 272000.0], [4.0, 400000.0], [3.0, 716125.0], [3.0, 427000.0], [3.0, 372500.0], [4.0, 919204.0], [4.0, 380000.0], [3.0, 355000.0], [4.0, 890000.0], [4.0, 515000.0], [3.0, 366000.0], [3.0, 575000.0], [4.0, 735000.0], [4.0, 468000.0], [2.0, 184500.0], [3.0, 235000.0], [2.0, 694000.0], [3.0, 760000.0], [4.0, 331500.0], [3.0, 650000.0], [5.0, 580000.0], [2.0, 350500.0], [2.0, 435000.0], [4.0, 445000.0], [4.0, 2900000.0], [4.0, 294000.0], [2.0, 436000.0], [3.0, 446450.0], [6.0, 800000.0], [3.0, 230000.0], [3.0, 589500.0], [3.0, 450000.0], [4.0, 551000.0], [3.0, 610950.0], [4.0, 300000.0], [3.0, 299950.0], [2.0, 778100.0], [4.0, 375000.0], [5.0, 774900.0], [7.0, 750000.0], [3.0, 240000.0], [3.0, 275000.0], [3.0, 650000.0], [2.0, 246500.0], [3.0, 411500.0], [3.0, 480000.0], [3.0, 810000.0], [2.0, 548000.0], [4.0, 366350.0], [2.0, 332544.0], [4.0, 178000.0], [3.0, 475000.0], [3.0, 498688.0], [3.0, 404000.0], [3.0, 720000.0], [3.0, 399950.0], [4.0, 465000.0], [6.0, 384000.0], [2.0, 335000.0], [4.0, 744000.0], [3.0, 291000.0], [3.0, 315000.0], [4.0, 712000.0], [3.0, 569999.0], [2.0, 700000.0], [3.0, 332500.0], [2.0, 520000.0], [3.0, 674950.0], [2.0, 289000.0], [3.0, 350000.0], [3.0, 1705000.0], [3.0, 470000.0], [2.0, 252000.0], [5.0, 278000.0], [4.0, 270000.0], [3.0, 223000.0], [3.0, 426000.0], [4.0, 1280000.0], [3.0, 225000.0], [2.0, 399950.0], [3.0, 470000.0], [3.0, 200000.0], [3.0, 269950.0], [3.0, 300000.0], [5.0, 559950.0], [2.0, 475000.0], [3.0, 575000.0], [2.0, 300000.0], [3.0, 629000.0], [4.0, 594000.0], [4.0, 1095000.0], [2.0, 375000.0], [3.0, 315000.0], [3.0, 413450.0], [2.0, 402101.0], [3.0, 398000.0], [1.0, 227000.0], [4.0, 494000.0], [2.0, 402000.0], [2.0, 100000.0], [3.0, 275000.0], [3.0, 497000.0], [4.0, 453250.0], [3.0, 206600.0], [3.0, 570000.0], [3.0, 545000.0], [4.0, 855000.0], [4.0, 519000.0], [3.0, 365000.0], [4.0, 685530.0], [4.0, 700000.0], [3.0, 354000.0], [4.0, 495000.0], [3.0, 539000.0], [3.0, 660000.0], [2.0, 499000.0], [2.0, 510000.0], [5.0, 725000.0], [4.0, 333000.0], [2.0, 441750.0], [3.0, 305000.0], [5.0, 419354.0], [2.0, 776000.0], [3.0, 735000.0], [3.0, 959000.0], [4.0, 1450000.0], [3.0, 199999.0], [3.0, 500000.0], [5.0, 230000.0], [4.0, 1115000.0], [4.0, 490000.0], [4.0, 730000.0], [3.0, 541338.0], [3.0, 362000.0], [3.0, 815000.0], [5.0, 635000.0], [4.0, 792500.0], [8.0, 490000.0], [4.0, 497000.0], [4.0, 397950.0], [4.0, 189950.0], [2.0, 549000.0], [3.0, 259950.0], [4.0, 780000.0], [3.0, 281000.0], [3.0, 1379900.0], [3.0, 455000.0], [4.0, 615000.0], [4.0, 927000.0], [4.0, 850000.0], [2.0, 334000.0], [4.0, 385000.0], [2.0, 505000.0], [4.0, 363990.0], [5.0, 459950.0], [4.0, 630000.0], [4.0, 710000.0], [3.0, 215000.0], [4.0, 427000.0], [3.0, 490000.0], [3.0, 622000.0], [3.0, 350000.0], [3.0, 716000.0], [4.0, 1468000.0], [4.0, 480000.0], [3.0, 1810000.0], [3.0, 355000.0], [3.0, 479000.0], [3.0, 345000.0], [3.0, 410000.0], [3.0, 280000.0], [4.0, 707000.0], [4.0, 365000.0], [1.0, 390000.0], [4.0, 350000.0], [3.0, 369950.0], [3.0, 225000.0], [4.0, 710000.0], [3.0, 380000.0], [4.0, 1080000.0], [6.0, 915000.0], [4.0, 671300.0], [4.0, 749950.0], [4.0, 397000.0], [4.0, 635000.0], [4.0, 324888.0], [3.0, 409316.0], [2.0, 139000.0], [3.0, 460000.0], [4.0, 808000.0], [3.0, 505000.0], [5.0, 722500.0], [3.0, 189000.0], [4.0, 330000.0], [4.0, 637000.0], [3.0, 373000.0], [2.0, 290000.0], [3.0, 539000.0], [2.0, 301500.0], [4.0, 435000.0], [4.0, 195500.0], [4.0, 385000.0], [2.0, 159995.0], [4.0, 529950.0], [4.0, 538000.0], [3.0, 285000.0], [3.0, 405000.0], [3.0, 536751.0], [3.0, 360000.0], [2.0, 240000.0], [3.0, 700000.0], [2.0, 424950.0], [5.0, 339000.0], [5.0, 1300000.0], [3.0, 442000.0], [4.0, 500000.0], [4.0, 142500.0], [2.0, 170000.0], [3.0, 250000.0], [4.0, 366000.0], [3.0, 721000.0], [3.0, 545000.0], [4.0, 765000.0], [3.0, 564800.0], [3.0, 660000.0], [3.0, 900000.0], [3.0, 184900.0], [4.0, 515000.0], [2.0, 400000.0], [4.0, 422000.0], [3.0, 290000.0], [4.0, 2500000.0], [3.0, 625000.0], [4.0, 277000.0], [2.0, 163800.0], [3.0, 515000.0], [3.0, 289950.0], [5.0, 359999.0], [3.0, 450000.0], [4.0, 565000.0], [3.0, 640000.0], [6.0, 1067000.0], [3.0, 195000.0], [4.0, 406250.0], [2.0, 273000.0], [4.0, 452000.0], [2.0, 369000.0], [3.0, 238000.0], [5.0, 630000.0], [5.0, 533000.0], [4.0, 525000.0], [5.0, 1795000.0], [4.0, 2100000.0], [4.0, 744000.0], [3.0, 437500.0], [3.0, 524950.0], [6.0, 430000.0], [2.0, 324000.0], [2.0, 295000.0], [4.0, 550000.0], [3.0, 500000.0], [2.0, 429000.0], [2.0, 479000.0], [2.0, 203700.0], [4.0, 1485000.0], [4.0, 585000.0], [3.0, 571000.0], [3.0, 245000.0], [3.0, 625000.0], [3.0, 1289000.0], [3.0, 402000.0], [4.0, 242150.0], [4.0, 395000.0], [4.0, 679975.0], [2.0, 357562.0], [3.0, 800000.0], [5.0, 399950.0], [3.0, 660000.0], [3.0, 299000.0], [2.0, 200000.0], [4.0, 640000.0], [2.0, 390000.0], [2.0, 305000.0], [2.0, 299950.0], [3.0, 250500.0], [3.0, 270500.0], [3.0, 355000.0], [4.0, 549900.0], [3.0, 615000.0], [2.0, 490000.0], [5.0, 265000.0], [5.0, 950000.0], [3.0, 225000.0], [4.0, 535000.0], [4.0, 392440.0], [4.0, 1570000.0], [4.0, 585000.0], [3.0, 625000.0], [2.0, 343000.0], [3.0, 172500.0], [4.0, 655500.0], [4.0, 657000.0], [1.0, 355000.0], [5.0, 750000.0], [3.0, 768000.0], [5.0, 540000.0], [4.0, 642860.0], [3.0, 198500.0], [4.0, 400000.0], [4.0, 285000.0], [3.0, 267000.0], [4.0, 527000.0], [4.0, 360000.0], [3.0, 755000.0], [3.0, 257000.0], [3.0, 549900.0], [3.0, 270000.0], [4.0, 1030000.0], [3.0, 193000.0], [4.0, 925000.0], [3.0, 435000.0], [4.0, 708000.0], [4.0, 253000.0], [4.0, 689000.0], [2.0, 405000.0], [3.0, 378000.0], [5.0, 599000.0], [2.0, 435000.0], [4.0, 760000.0], [3.0, 775000.0], [2.0, 300000.0], [3.0, 449000.0], [5.0, 360000.0], [3.0, 390000.0], [3.0, 465000.0], [4.0, 858000.0], [3.0, 264000.0], [3.0, 344000.0], [3.0, 270000.0], [3.0, 570000.0], [2.0, 302860.0], [2.0, 199950.0], [2.0, 250000.0], [7.0, 2280000.0], [2.0, 400000.0], [2.0, 264950.0], [3.0, 757000.0], [4.0, 790000.0], [2.0, 535000.0], [5.0, 834950.0], [4.0, 319990.0], [3.0, 727000.0], [3.0, 595000.0], [3.0, 380000.0], [3.0, 580000.0], [5.0, 359800.0], [5.0, 598992.0], [4.0, 499000.0], [4.0, 2300000.0], [3.0, 615500.0], [3.0, 630000.0], [4.0, 225500.0], [3.0, 410000.0], [3.0, 420000.0], [3.0, 510000.0], [3.0, 390000.0], [3.0, 239000.0], [4.0, 459000.0], [4.0, 285000.0], [3.0, 525000.0], [2.0, 225500.0], [3.0, 384400.0], [4.0, 427500.0], [4.0, 327500.0], [3.0, 424000.0], [5.0, 405000.0], [3.0, 577000.0], [4.0, 820000.0], [6.0, 510000.0], [3.0, 659000.0], [2.0, 255000.0], [3.0, 319000.0], [4.0, 419950.0], [4.0, 550000.0], [3.0, 450000.0], [5.0, 465000.0], [4.0, 600000.0], [3.0, 533500.0], [3.0, 650000.0], [4.0, 770000.0], [4.0, 322000.0], [2.0, 425000.0], [4.0, 840000.0], [5.0, 396000.0], [3.0, 530000.0], [3.0, 397500.0], [3.0, 297000.0], [3.0, 497000.0], [4.0, 550000.0], [6.0, 325000.0], [6.0, 435000.0], [4.0, 291375.0], [5.0, 600000.0], [2.0, 306500.0], [3.0, 853505.0], [3.0, 405000.0], [3.0, 255000.0], [3.0, 485000.0], [4.0, 335000.0], [3.0, 1153000.0], [3.0, 499950.0], [3.0, 505000.0], [2.0, 440000.0], [3.0, 425000.0], [3.0, 467500.0], [3.0, 269900.0], [3.0, 246700.0], [3.0, 710000.0], [2.0, 157500.0], [2.0, 725000.0], [4.0, 525000.0], [2.0, 324950.0], [3.0, 449000.0], [4.0, 197000.0], [3.0, 1325000.0], [4.0, 248000.0], [0.0, 380000.0], [4.0, 751305.0], [2.0, 580000.0], [4.0, 360000.0], [3.0, 348580.0], [3.0, 525000.0], [3.0, 860000.0], [4.0, 725000.0], [3.0, 425000.0], [4.0, 425000.0], [3.0, 478000.0], [2.0, 305000.0], [5.0, 470000.0], [4.0, 474000.0], [4.0, 625000.0], [3.0, 500000.0], [3.0, 200500.0], [4.0, 786000.0], [2.0, 122000.0], [3.0, 185900.0], [3.0, 315000.0], [3.0, 239000.0], [3.0, 992000.0], [3.0, 524000.0], [2.0, 241000.0], [5.0, 613000.0], [4.0, 524000.0], [2.0, 160000.0], [3.0, 325000.0], [3.0, 510000.0], [3.0, 474000.0], [4.0, 797500.0], [3.0, 420000.0], [3.0, 760000.0], [3.0, 340000.0], [2.0, 750000.0], [5.0, 780000.0], [3.0, 230000.0], [3.0, 530000.0], [4.0, 652427.0], [2.0, 315000.0], [2.0, 562100.0], [2.0, 315000.0], [4.0, 790000.0], [4.0, 1058000.0], [4.0, 305000.0], [1.0, 262000.0], [3.0, 285000.0], [2.0, 380000.0], [4.0, 645000.0], [3.0, 609000.0], [3.0, 515100.0], [3.0, 340000.0], [2.0, 592350.0], [4.0, 700000.0], [7.0, 824000.0], [2.0, 721000.0], [3.0, 380000.0], [3.0, 610000.0], [5.0, 1049990.0], [3.0, 515000.0], [3.0, 377500.0], [3.0, 375000.0], [3.0, 295000.0], [3.0, 265000.0], [4.0, 430000.0], [5.0, 455000.0], [3.0, 436000.0], [2.0, 550000.0], [4.0, 312000.0], [4.0, 775000.0], [2.0, 455000.0], [3.0, 850000.0], [1.0, 403500.0], [4.0, 415000.0], [3.0, 575000.0], [4.0, 750000.0], [2.0, 115000.0], [4.0, 899000.0], [3.0, 499950.0], [5.0, 1700000.0], [5.0, 850000.0], [3.0, 635000.0], [3.0, 345000.0], [3.0, 475000.0], [3.0, 270000.0], [2.0, 500000.0], [4.0, 190848.0], [4.0, 655000.0], [3.0, 436000.0], [4.0, 920000.0], [5.0, 210000.0], [3.0, 395000.0], [4.0, 800000.0], [3.0, 500000.0], [4.0, 339950.0], [3.0, 640000.0], [3.0, 385000.0], [3.0, 337000.0], [3.0, 602000.0], [2.0, 289000.0], [3.0, 315000.0], [4.0, 772000.0], [3.0, 707500.0], [4.0, 1400000.0], [3.0, 445000.0], [3.0, 502000.0], [2.0, 352000.0], [3.0, 550000.0], [3.0, 500000.0], [3.0, 329950.0], [2.0, 308000.0], [4.0, 560000.0], [6.0, 1485000.0], [4.0, 264950.0], [3.0, 500000.0], [3.0, 390000.0], [4.0, 325000.0], [2.0, 182500.0], [4.0, 840000.0], [4.0, 482000.0], [3.0, 527900.0], [3.0, 725000.0], [3.0, 799000.0], [4.0, 325000.0], [3.0, 588000.0], [2.0, 401750.0], [5.0, 352000.0], [2.0, 230000.0], [3.0, 267500.0], [4.0, 485500.0], [4.0, 871000.0], [6.0, 1125000.0], [3.0, 261350.0], [2.0, 330000.0], [4.0, 308000.0], [2.0, 515000.0], [4.0, 352000.0], [4.0, 585000.0], [4.0, 320000.0], [4.0, 405000.0], [3.0, 241000.0], [2.0, 153000.0], [4.0, 258750.0], [3.0, 458000.0], [2.0, 790000.0], [5.0, 729953.0], [3.0, 746000.0], [2.0, 528000.0], [4.0, 598780.0], [2.0, 170000.0], [4.0, 267345.0], [3.0, 386000.0], [3.0, 285000.0], [3.0, 898000.0], [3.0, 240000.0], [3.0, 410000.0], [3.0, 460000.0], [3.0, 384000.0], [3.0, 405000.0], [4.0, 539000.0], [3.0, 711000.0], [4.0, 439500.0], [3.0, 149000.0], [3.0, 572000.0], [4.0, 332000.0], [3.0, 217000.0], [5.0, 733000.0], [5.0, 1400000.0], [2.0, 400950.0], [2.0, 567500.0], [4.0, 276500.0], [3.0, 539000.0], [2.0, 419000.0], [4.0, 280000.0], [4.0, 328000.0], [3.0, 628000.0], [4.0, 265000.0], [5.0, 540500.0], [5.0, 525000.0], [3.0, 205000.0], [4.0, 190000.0], [3.0, 342000.0], [5.0, 418000.0], [3.0, 310000.0], [4.0, 371000.0], [3.0, 339275.0], [3.0, 349990.0], [3.0, 440000.0], [3.0, 398750.0], [3.0, 565000.0], [3.0, 3000000.0], [2.0, 930000.0], [4.0, 360000.0], [4.0, 1700000.0], [4.0, 245000.0], [3.0, 275000.0], [3.0, 375000.0], [4.0, 485000.0], [2.0, 1175000.0], [4.0, 295000.0], [5.0, 309000.0], [4.0, 670000.0], [3.0, 990000.0], [4.0, 697000.0], [2.0, 345000.0], [4.0, 385000.0], [4.0, 446500.0], [3.0, 432500.0], [4.0, 280927.0], [2.0, 275000.0], [3.0, 435000.0], [3.0, 217500.0], [4.0, 420000.0], [3.0, 315000.0], [2.0, 254000.0], [3.0, 149500.0], [3.0, 649950.0], [3.0, 480000.0], [5.0, 3345000.0], [5.0, 490000.0], [4.0, 675000.0], [3.0, 400000.0], [3.0, 535000.0], [5.0, 650000.0], [4.0, 450000.0], [4.0, 926250.0], [4.0, 749000.0], [3.0, 250000.0], [4.0, 370000.0], [4.0, 765000.0], [3.0, 259000.0], [3.0, 681000.0], [3.0, 322500.0], [3.0, 310000.0], [3.0, 775000.0], [3.0, 995000.0], [1.0, 250000.0], [4.0, 570000.0], [4.0, 500000.0], [3.0, 908800.0], [3.0, 924000.0], [3.0, 262500.0], [3.0, 520000.0], [2.0, 348140.0], [3.0, 1690000.0], [3.0, 324000.0], [5.0, 311000.0], [3.0, 164808.0], [4.0, 352000.0], [3.0, 268000.0], [3.0, 255000.0], [3.0, 348000.0], [3.0, 285000.0], [4.0, 750000.0], [4.0, 3710000.0], [3.0, 357000.0], [3.0, 915000.0], [5.0, 920000.0], [4.0, 343500.0], [4.0, 557000.0], [4.0, 1142000.0], [3.0, 385000.0], [4.0, 500000.0], [2.0, 259950.0], [3.0, 355000.0], [3.0, 525000.0], [4.0, 810000.0], [2.0, 325000.0], [4.0, 345000.0], [4.0, 670000.0], [4.0, 775000.0], [4.0, 560000.0], [3.0, 246000.0], [3.0, 275000.0], [3.0, 330000.0], [3.0, 1321500.0], [5.0, 920000.0], [2.0, 264950.0], [2.0, 482000.0], [3.0, 439000.0], [2.0, 1998000.0], [4.0, 780000.0], [4.0, 340000.0], [4.0, 375000.0], [3.0, 608000.0], [4.0, 721000.0], [4.0, 700000.0], [5.0, 780000.0], [4.0, 310000.0], [6.0, 696000.0], [4.0, 422000.0], [4.0, 771000.0], [3.0, 209950.0], [3.0, 335000.0], [4.0, 770000.0], [3.0, 235000.0], [2.0, 525000.0], [2.0, 403000.0], [5.0, 972800.0], [2.0, 195000.0], [3.0, 338500.0], [3.0, 1008000.0], [4.0, 765000.0], [4.0, 350000.0], [3.0, 277500.0], [3.0, 660000.0], [3.0, 216000.0], [3.0, 427200.0], [3.0, 1080000.0], [3.0, 192500.0], [3.0, 399950.0], [3.0, 545000.0], [3.0, 456500.0], [3.0, 660000.0], [5.0, 565000.0], [5.0, 269900.0], [4.0, 920000.0], [4.0, 459950.0], [3.0, 276900.0], [3.0, 409000.0], [3.0, 340000.0], [3.0, 415000.0], [5.0, 285000.0], [5.0, 541125.0], [4.0, 595000.0], [3.0, 385000.0], [3.0, 525000.0], [4.0, 445000.0]], \"columns\": [{\"dtype\": \"str\", \"name\": \"id\"}, {\"dtype\": \"datetime\", \"name\": \"date\"}, {\"dtype\": \"float\", \"name\": \"price\"}, {\"dtype\": \"float\", \"name\": \"bedrooms\"}, {\"dtype\": \"float\", \"name\": \"bathrooms\"}, {\"dtype\": \"float\", \"name\": \"sqft_living\"}, {\"dtype\": \"int\", \"name\": \"sqft_lot\"}, {\"dtype\": \"str\", \"name\": \"floors\"}, {\"dtype\": \"int\", \"name\": \"waterfront\"}, {\"dtype\": \"int\", \"name\": \"view\"}, {\"dtype\": \"int\", \"name\": \"condition\"}, {\"dtype\": \"int\", \"name\": \"grade\"}, {\"dtype\": \"int\", \"name\": \"sqft_above\"}, {\"dtype\": \"int\", \"name\": \"sqft_basement\"}, {\"dtype\": \"int\", \"name\": \"yr_built\"}, {\"dtype\": \"int\", \"name\": \"yr_renovated\"}, {\"dtype\": \"str\", \"name\": \"zipcode\"}, {\"dtype\": \"float\", \"name\": \"lat\"}, {\"dtype\": \"float\", \"name\": \"long\"}, {\"dtype\": \"float\", \"name\": \"sqft_living15\"}, {\"dtype\": \"float\", \"name\": \"sqft_lot15\"}]}, e);\n",
       "                });\n",
       "            })();\n",
       "        "
      ]
     },
     "metadata": {},
     "output_type": "display_data"
    }
   ],
   "source": [
    "sales.show(view=\"Scatter Plot\",x=\"bedrooms\",y=\"price\")"
   ]
  },
  {
   "cell_type": "code",
   "execution_count": 157,
   "metadata": {
    "collapsed": false
   },
   "outputs": [
    {
     "data": {
      "text/plain": [
       "[<matplotlib.lines.Line2D at 0x11b9f7f50>,\n",
       " <matplotlib.lines.Line2D at 0x11c1a7050>]"
      ]
     },
     "execution_count": 157,
     "metadata": {},
     "output_type": "execute_result"
    }
   ],
   "source": [
    "plt.plot(sales['bedrooms'],sales['price'],'.',sales['sqft_living'],sales['price'],'*')"
   ]
  },
  {
   "cell_type": "code",
   "execution_count": null,
   "metadata": {
    "collapsed": true
   },
   "outputs": [],
   "source": []
  }
 ],
 "metadata": {
  "kernelspec": {
   "display_name": "Python 2",
   "language": "python",
   "name": "python2"
  },
  "language_info": {
   "codemirror_mode": {
    "name": "ipython",
    "version": 2
   },
   "file_extension": ".py",
   "mimetype": "text/x-python",
   "name": "python",
   "nbconvert_exporter": "python",
   "pygments_lexer": "ipython2",
   "version": "2.7.11"
  }
 },
 "nbformat": 4,
 "nbformat_minor": 0
}
